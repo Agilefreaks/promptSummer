{
 "cells": [
  {
   "cell_type": "markdown",
   "metadata": {},
   "source": [
    "# Prompt Engineering"
   ]
  },
  {
   "cell_type": "code",
   "execution_count": 43,
   "metadata": {},
   "outputs": [],
   "source": [
    "#!pip install langchain langchain-openai langchain-core"
   ]
  },
  {
   "cell_type": "markdown",
   "metadata": {},
   "source": [
    "### Import the necessary module for setting environment variables"
   ]
  },
  {
   "cell_type": "code",
   "execution_count": 44,
   "metadata": {},
   "outputs": [],
   "source": [
    "import os"
   ]
  },
  {
   "cell_type": "markdown",
   "metadata": {},
   "source": [
    "### Set the environment variables"
   ]
  },
  {
   "cell_type": "code",
   "execution_count": 45,
   "metadata": {},
   "outputs": [],
   "source": [
    "os.environ[\"AZURE_OPENAI_API_KEY\"] = \"\"\n",
    "os.environ[\"AZURE_OPENAI_ENDPOINT\"] = \"\"\n",
    "os.environ[\"AZURE_OPENAI_API_VERSION\"] = \"2023-03-15-preview\"\n",
    "os.environ[\"AZURE_OPENAI_CHAT_DEPLOYMENT_NAME\"] = \"gpt-35-turbo\""
   ]
  },
  {
   "cell_type": "markdown",
   "metadata": {},
   "source": [
    "### Import required classes"
   ]
  },
  {
   "cell_type": "code",
   "execution_count": 46,
   "metadata": {},
   "outputs": [],
   "source": [
    "from langchain_core.prompts import ChatPromptTemplate\n",
    "from langchain_core.messages import HumanMessage, SystemMessage\n",
    "from langchain_openai import AzureChatOpenAI, ChatOpenAI, AzureOpenAI"
   ]
  },
  {
   "cell_type": "markdown",
   "metadata": {},
   "source": [
    "### Initialize the language model with the specified API key and base URL"
   ]
  },
  {
   "cell_type": "code",
   "execution_count": 47,
   "metadata": {},
   "outputs": [],
   "source": [
    "llm = AzureChatOpenAI(\n",
    "    openai_api_version=os.environ[\"AZURE_OPENAI_API_VERSION\"],\n",
    "    azure_deployment=os.environ[\"AZURE_OPENAI_CHAT_DEPLOYMENT_NAME\"],\n",
    ")"
   ]
  },
  {
   "cell_type": "markdown",
   "metadata": {},
   "source": [
    "### Define a function to create and execute a chain of prompts"
   ]
  },
  {
   "cell_type": "code",
   "execution_count": 48,
   "metadata": {},
   "outputs": [],
   "source": [
    "def create_chain(llm_details, user_input):\n",
    "    messages = [\n",
    "        SystemMessage(content=llm_details),\n",
    "        HumanMessage(content=user_input),\n",
    "    ]\n",
    "    response = llm.invoke(messages)\n",
    "    # Execute the chain with the provided variables and return the result\n",
    "    return response "
   ]
  },
  {
   "cell_type": "code",
   "execution_count": 49,
   "metadata": {},
   "outputs": [],
   "source": [
    "system_message = \"You are a helpful, smart, kind, and efficient AI assistant. You always fulfill the user's requests to the best of your ability and your name is Sibiu Summer IT School Bot.\""
   ]
  },
  {
   "cell_type": "markdown",
   "metadata": {},
   "source": [
    "### Define the user input template with placeholders for the variables"
   ]
  },
  {
   "cell_type": "code",
   "execution_count": 50,
   "metadata": {},
   "outputs": [],
   "source": [
    "user_input = \"\"\"\n",
    "tell me a joke\n",
    "\"\"\""
   ]
  },
  {
   "cell_type": "markdown",
   "metadata": {},
   "source": [
    "### Call and print the function response to create and execute the chain, storing the result"
   ]
  },
  {
   "cell_type": "code",
   "execution_count": 51,
   "metadata": {},
   "outputs": [],
   "source": [
    "result = create_chain(system_message, user_input)"
   ]
  },
  {
   "cell_type": "code",
   "execution_count": 52,
   "metadata": {},
   "outputs": [
    {
     "name": "stdout",
     "output_type": "stream",
     "text": [
      "Why did the tomato turn red? Because it saw the salad dressing!\n"
     ]
    }
   ],
   "source": [
    "print(result.content)"
   ]
  },
  {
   "cell_type": "markdown",
   "metadata": {},
   "source": [
    "---"
   ]
  },
  {
   "cell_type": "markdown",
   "metadata": {},
   "source": [
    "## Write your prompt and test it"
   ]
  },
  {
   "cell_type": "code",
   "execution_count": 53,
   "metadata": {},
   "outputs": [],
   "source": [
    "student_llm_details = \"\"\"\n",
    "\n",
    "\"\"\"\n",
    "student_prompt = \"\"\"\n",
    "\n",
    "\"\"\""
   ]
  },
  {
   "cell_type": "markdown",
   "metadata": {},
   "source": [
    "## Execute prompt"
   ]
  },
  {
   "cell_type": "code",
   "execution_count": 54,
   "metadata": {},
   "outputs": [
    {
     "name": "stdout",
     "output_type": "stream",
     "text": [
      "There are many possible ways to approach a project on the impact of technology on society, depending on the specific focus and scope of the project. Here are some general steps and ideas:\n",
      "\n",
      "1. Define the research question: What aspect of the impact of technology on society do you want to investigate? For example, you could focus on the economic, social, cultural, ethical, environmental, or political implications of technology.\n",
      "\n",
      "2. Conduct a literature review: Search for scholarly sources, such as academic articles, books, and reports, that address your research question. Use databases and search engines, such as Google Scholar or JSTOR, to find relevant sources. Read and analyze the sources critically, taking notes and highlighting key ideas and arguments.\n",
      "\n",
      "3. Collect data: Depending on your research question, you may need to collect empirical data, such as surveys, interviews, or observations. Decide on the methods and tools you will use to collect and analyze data. Be mindful of ethical considerations, such as informed consent and confidentiality, when conducting research involving human subjects.\n",
      "\n",
      "4. Analyze the data: Use statistical or qualitative analysis techniques to make sense of the data you have collected. Look for patterns, themes, or correlations that can answer your research question. Use tables, graphs, or visualizations to present your findings.\n",
      "\n",
      "5. Draw conclusions: Based on your analysis, draw conclusions about the impact of technology on society in relation to your research question. Discuss your findings in light of the existing literature and theories on the topic. Consider the limitations of your study and suggest future research directions.\n",
      "\n",
      "6. Communicate your results: Write a research report or create a presentation that summarizes your research question, methods, findings, and conclusions. Use clear and concise language, and provide visual aids, such as diagrams or images, to enhance your presentation. Consider your audience and tailor your communication style accordingly.\n"
     ]
    }
   ],
   "source": [
    "result = create_chain(student_llm_details, student_prompt)\n",
    "print(result.content)"
   ]
  },
  {
   "cell_type": "code",
   "execution_count": null,
   "metadata": {},
   "outputs": [],
   "source": []
  }
 ],
 "metadata": {
  "kernelspec": {
   "display_name": "Python 3 (ipykernel)",
   "language": "python",
   "name": "python3"
  },
  "language_info": {
   "codemirror_mode": {
    "name": "ipython",
    "version": 3
   },
   "file_extension": ".py",
   "mimetype": "text/x-python",
   "name": "python",
   "nbconvert_exporter": "python",
   "pygments_lexer": "ipython3",
   "version": "3.12.0"
  }
 },
 "nbformat": 4,
 "nbformat_minor": 4
}
